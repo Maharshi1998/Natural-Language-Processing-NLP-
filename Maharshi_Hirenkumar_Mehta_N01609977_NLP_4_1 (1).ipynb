{
  "nbformat": 4,
  "nbformat_minor": 0,
  "metadata": {
    "colab": {
      "provenance": []
    },
    "kernelspec": {
      "name": "python3",
      "display_name": "Python 3"
    },
    "language_info": {
      "name": "python"
    }
  },
  "cells": [
    {
      "cell_type": "code",
      "execution_count": 16,
      "metadata": {
        "colab": {
          "base_uri": "https://localhost:8080/"
        },
        "id": "gS9vqn8_0ouT",
        "outputId": "02574aab-94a3-4d7c-80a7-3a0d8deff844"
      },
      "outputs": [
        {
          "output_type": "stream",
          "name": "stdout",
          "text": [
            "[('NASA', 'NNP'), ('awarded', 'VBD'), ('Elon', 'NNP'), ('Musk', 'NNP'), ('’', 'NNP'), ('s', 'VBD'), ('SpaceX', 'NNP'), ('a', 'DT'), ('$', '$'), ('2.9', 'CD'), ('billion', 'CD'), ('contract', 'NN'), ('to', 'TO'), ('build', 'VB'), ('the', 'DT'), ('lunar', 'NN'), ('lander', 'NN'), ('.', '.')]\n",
            "(S\n",
            "  (ORGANIZATION NASA/NNP)\n",
            "  awarded/VBD\n",
            "  (PERSON Elon/NNP Musk/NNP)\n",
            "  ’/NNP\n",
            "  s/VBD\n",
            "  (ORGANIZATION SpaceX/NNP)\n",
            "  a/DT\n",
            "  $/$\n",
            "  2.9/CD\n",
            "  billion/CD\n",
            "  contract/NN\n",
            "  to/TO\n",
            "  build/VB\n",
            "  the/DT\n",
            "  lunar/NN\n",
            "  lander/NN\n",
            "  ./.)\n"
          ]
        },
        {
          "output_type": "stream",
          "name": "stderr",
          "text": [
            "[nltk_data] Downloading package punkt to /root/nltk_data...\n",
            "[nltk_data]   Package punkt is already up-to-date!\n",
            "[nltk_data] Downloading package averaged_perceptron_tagger to\n",
            "[nltk_data]     /root/nltk_data...\n",
            "[nltk_data]   Package averaged_perceptron_tagger is already up-to-\n",
            "[nltk_data]       date!\n",
            "[nltk_data] Downloading package maxent_ne_chunker to\n",
            "[nltk_data]     /root/nltk_data...\n",
            "[nltk_data]   Package maxent_ne_chunker is already up-to-date!\n",
            "[nltk_data] Downloading package words to /root/nltk_data...\n",
            "[nltk_data]   Package words is already up-to-date!\n",
            "[nltk_data] Downloading package treebank to /root/nltk_data...\n",
            "[nltk_data]   Package treebank is already up-to-date!\n"
          ]
        }
      ],
      "source": [
        "import nltk\n",
        "nltk.download('punkt')\n",
        "nltk.download('averaged_perceptron_tagger')\n",
        "nltk.download('maxent_ne_chunker')\n",
        "nltk.download ('words')\n",
        "nltk.download('treebank')\n",
        "from nltk import word_tokenize,pos_tag\n",
        "\n",
        "text = \"NASA awarded Elon Musk’s SpaceX a $2.9 billion contract to build the lunar lander.\"\n",
        "tokens = word_tokenize(text)\n",
        "tag=pos_tag(tokens)\n",
        "print(tag)\n",
        "\n",
        "ne_tree = nltk.ne_chunk(tag)\n",
        "print(ne_tree)"
      ]
    },
    {
      "cell_type": "code",
      "source": [
        ">>> sent = nltk.corpus.treebank.tagged_sents()\n",
        ">>> print(nltk.ne_chunk(sent[0]))"
      ],
      "metadata": {
        "colab": {
          "base_uri": "https://localhost:8080/"
        },
        "id": "ySYeyvLT1Unc",
        "outputId": "3d791202-e05d-4f79-e604-4d971c58c64a"
      },
      "execution_count": 17,
      "outputs": [
        {
          "output_type": "stream",
          "name": "stdout",
          "text": [
            "(S\n",
            "  (PERSON Pierre/NNP)\n",
            "  (ORGANIZATION Vinken/NNP)\n",
            "  ,/,\n",
            "  61/CD\n",
            "  years/NNS\n",
            "  old/JJ\n",
            "  ,/,\n",
            "  will/MD\n",
            "  join/VB\n",
            "  the/DT\n",
            "  board/NN\n",
            "  as/IN\n",
            "  a/DT\n",
            "  nonexecutive/JJ\n",
            "  director/NN\n",
            "  Nov./NNP\n",
            "  29/CD\n",
            "  ./.)\n"
          ]
        }
      ]
    },
    {
      "cell_type": "code",
      "source": [
        "import spacy\n",
        "nlp = spacy.load(\"en_core_web_sm\")\n",
        "\n",
        "doc = nlp(\"NASA awarded Elon Musk’s SpaceX a $2.9 billion contract to build the lunar lander.\")\n",
        "for token in doc:\n",
        "    print(token.text, token.ent_iob_, token.ent_type_)"
      ],
      "metadata": {
        "colab": {
          "base_uri": "https://localhost:8080/"
        },
        "id": "glJd2UkF1a3N",
        "outputId": "9292ae95-f613-4a51-9878-0053e31d82c0"
      },
      "execution_count": 18,
      "outputs": [
        {
          "output_type": "stream",
          "name": "stdout",
          "text": [
            "NASA B ORG\n",
            "awarded O \n",
            "Elon B PERSON\n",
            "Musk I PERSON\n",
            "’s I PERSON\n",
            "SpaceX O \n",
            "a O \n",
            "$ B MONEY\n",
            "2.9 I MONEY\n",
            "billion I MONEY\n",
            "contract O \n",
            "to O \n",
            "build O \n",
            "the O \n",
            "lunar O \n",
            "lander O \n",
            ". O \n"
          ]
        }
      ]
    }
  ]
}